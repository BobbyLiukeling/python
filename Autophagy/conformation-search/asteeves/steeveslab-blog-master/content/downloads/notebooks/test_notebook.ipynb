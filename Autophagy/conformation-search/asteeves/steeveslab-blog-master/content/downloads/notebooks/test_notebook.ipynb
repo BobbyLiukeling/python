{
 "worksheets": [
  {
   "cells": [
    {
     "cell_type": "heading",
     "metadata": {},
     "level": 1,
     "source": [
      "This is the heading of my notebook"
     ]
    },
    {
     "cell_type": "code",
     "execution_count": null,
     "metadata": {},
     "outputs": [
      {
       "stream": "stdout",
       "output_type": "stream",
       "text": [
        "Hello, friends.\n"
       ]
      }
     ],
     "input": [
      "print 'Hello, friends.'"
     ],
     "language": "python",
     "prompt_number": 1
    },
    {
     "cell_type": "markdown",
     "metadata": {},
     "source": [
      "I hardcoded a couple of hacks to get \"smart quotes\" from Markdown both inside and outside of the notebook cells. I am sure I will regret these sooner or later."
     ]
    }
   ]
  }
 ],
 "cells": [],
 "metadata": {
  "name": "",
  "signature": "sha256:13345a0da7bf0f7dee5e0244c02b63c8f1149e14fe18c922bb477ff1f240bd62"
 },
 "nbformat": 4,
 "nbformat_minor": 0
}
